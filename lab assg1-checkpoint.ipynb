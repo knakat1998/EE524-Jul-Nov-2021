{
 "cells": [
  {
   "cell_type": "code",
   "execution_count": 1,
   "id": "19411cbd",
   "metadata": {},
   "outputs": [
    {
     "name": "stdout",
     "output_type": "stream",
     "text": [
      "hello world\n"
     ]
    }
   ],
   "source": [
    "print(\"hello world\")"
   ]
  },
  {
   "cell_type": "code",
   "execution_count": 2,
   "id": "98d994e1",
   "metadata": {},
   "outputs": [
    {
     "name": "stdout",
     "output_type": "stream",
     "text": [
      " enter first input num: 4\n",
      " enter second input num: 0.1\n",
      "4.1\n",
      "3.9\n",
      "0.4\n",
      "40.0\n",
      "0.09999999999999978\n"
     ]
    }
   ],
   "source": [
    "a = float(input(\" enter first input num: \"))\n",
    "b = float(input(\" enter second input num: \"))\n",
    "c = a + b\n",
    "d = a - b\n",
    "e = a * b\n",
    "f = a / b\n",
    "g = a % b\n",
    "print(c)\n",
    "print(d)\n",
    "print(e)\n",
    "print(f)\n",
    "print(g)\n"
   ]
  },
  {
   "cell_type": "code",
   "execution_count": 3,
   "id": "fd8ca80c",
   "metadata": {},
   "outputs": [
    {
     "name": "stdout",
     "output_type": "stream",
     "text": [
      "enter a number: 7\n",
      " The factorial of  7 is 5040\n"
     ]
    }
   ],
   "source": [
    "factorial =1\n",
    "num = int(input(\"enter a number: \"))\n",
    "if num ==0:\n",
    "   print(factorial)\n",
    "else:\n",
    "    for i in range(1, num+1):\n",
    "        factorial = factorial * i\n",
    "\n",
    "print(\" The factorial of \" ,num ,\"is\", factorial)"
   ]
  },
  {
   "cell_type": "code",
   "execution_count": 8,
   "id": "9bcbbdda",
   "metadata": {},
   "outputs": [
    {
     "name": "stdout",
     "output_type": "stream",
     "text": [
      "enter a num1: 2\n",
      "enter a num2: 20\n",
      "2 3 5 7 11 13 17 19 "
     ]
    }
   ],
   "source": [
    "a = int(input(\"enter a num1: \"))\n",
    "b = int(input(\"enter a num2: \"))\n",
    "for i in range(a , b+1):\n",
    "    flag = 0\n",
    "    for j in range(2, i):\n",
    "        if (i%j == 0):\n",
    "            flag =1\n",
    "           \n",
    "    if (flag == 0):\n",
    "        print(i, end =' ')"
   ]
  },
  {
   "cell_type": "code",
   "execution_count": 10,
   "id": "3986c373",
   "metadata": {},
   "outputs": [
    {
     "name": "stdout",
     "output_type": "stream",
     "text": [
      "enter a number: 10\n",
      "enter another number: 55\n",
      "lcm of 10 and 55 is 110\n"
     ]
    }
   ],
   "source": [
    "a = int(input(\"enter a number: \"))\n",
    "b = int(input(\"enter another number: \"))\n",
    "def lcmvalue(a , b):\n",
    "     if a>b:\n",
    "       greater = a\n",
    "     else:\n",
    "        greater = b\n",
    "        value = greater\n",
    "     while True:\n",
    "         if (greater% a ==0 and greater%b ==0) :\n",
    "\n",
    "              print(\"lcm of\",a, \"and\" ,b,\"is\",greater)\n",
    "              break\n",
    "         else:\n",
    "             greater = greater + value\n",
    "lcmvalue(a , b)"
   ]
  },
  {
   "cell_type": "code",
   "execution_count": 11,
   "id": "5f9360ec",
   "metadata": {},
   "outputs": [
    {
     "name": "stdout",
     "output_type": "stream",
     "text": [
      "unsorted list: [1, 3, 5, 4, 6, 2, 8, 9, 7, 10, 14, 13, 11, 15, 12]\n",
      "sorted list:  [15, 14, 13, 12, 11, 10, 9, 8, 7, 6, 5, 4, 3, 2, 1]\n"
     ]
    }
   ],
   "source": [
    "list =[1,3,5,4,6,2,8,9,7,10,14,13,11,15,12]\n",
    "print(\"unsorted list:\", list)\n",
    "for j in range(len(list)-1):\n",
    "    for i in range(len(list)-1):\n",
    "        if list[i] <list[i+1]:\n",
    "            list[i],list[i + 1] = list[i+1],list[i]\n",
    "print(\"sorted list: \",list)\n"
   ]
  },
  {
   "cell_type": "code",
   "execution_count": null,
   "id": "29ed75a6",
   "metadata": {},
   "outputs": [],
   "source": []
  }
 ],
 "metadata": {
  "kernelspec": {
   "display_name": "Python 3",
   "language": "python",
   "name": "python3"
  },
  "language_info": {
   "codemirror_mode": {
    "name": "ipython",
    "version": 3
   },
   "file_extension": ".py",
   "mimetype": "text/x-python",
   "name": "python",
   "nbconvert_exporter": "python",
   "pygments_lexer": "ipython3",
   "version": "3.8.8"
  }
 },
 "nbformat": 4,
 "nbformat_minor": 5
}
