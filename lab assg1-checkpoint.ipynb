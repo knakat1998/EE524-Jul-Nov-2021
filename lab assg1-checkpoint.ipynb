{
 "cells": [
  {
   "cell_type": "code",
   "execution_count": 1,
   "id": "14968257",
   "metadata": {},
   "outputs": [
    {
     "name": "stdout",
     "output_type": "stream",
     "text": [
      "hello world\n"
     ]
    }
   ],
   "source": [
    "print(\"hello world\")"
   ]
  },
  {
   "cell_type": "code",
   "execution_count": 2,
   "id": "6f9d23a7",
   "metadata": {},
   "outputs": [
    {
     "name": "stdout",
     "output_type": "stream",
     "text": [
      " enter first input num: 4\n",
      " enter second input num: 0.1\n",
      "4.1\n",
      "3.9\n",
      "0.4\n",
      "40.0\n",
      "0.09999999999999978\n"
     ]
    }
   ],
   "source": [
    "a = float(input(\" enter first input num: \"))\n",
    "b = float(input(\" enter second input num: \"))\n",
    "c = a + b\n",
    "d = a - b\n",
    "e = a * b\n",
    "f = a / b\n",
    "g = a % b\n",
    "print(c)\n",
    "print(d)\n",
    "print(e)\n",
    "print(f)\n",
    "print(g)\n"
   ]
  },
  {
   "cell_type": "code",
   "execution_count": 3,
   "id": "6169b122",
   "metadata": {},
   "outputs": [
    {
     "name": "stdout",
     "output_type": "stream",
     "text": [
      "enter a number: 7\n",
      " The factorial of  7 is 5040\n"
     ]
    }
   ],
   "source": [
    "factorial =1\n",
    "num = int(input(\"enter a number: \"))\n",
    "if num ==0:\n",
    "   print(factorial)\n",
    "else:\n",
    "    for i in range(1, num+1):\n",
    "        factorial = factorial * i\n",
    "\n",
    "print(\" The factorial of \" ,num ,\"is\", factorial)"
   ]
  },
  {
   "cell_type": "code",
   "execution_count": 8,
   "id": "0b3ea52c",
   "metadata": {},
   "outputs": [
    {
     "name": "stdout",
     "output_type": "stream",
     "text": [
      "enter a num1: 2\n",
      "enter a num2: 20\n",
      "2 3 5 7 11 13 17 19 "
     ]
    }
   ],
   "source": [
    "a = int(input(\"enter a num1: \"))\n",
    "b = int(input(\"enter a num2: \"))\n",
    "for i in range(a , b+1):\n",
    "    flag = 0\n",
    "    for j in range(2, i):\n",
    "        if (i%j == 0):\n",
    "            flag =1\n",
    "           \n",
    "    if (flag == 0):\n",
    "        print(i, end =' ')"
   ]
  },
  {
   "cell_type": "code",
   "execution_count": 10,
   "id": "e16ba289",
   "metadata": {},
   "outputs": [
    {
     "name": "stdout",
     "output_type": "stream",
     "text": [
      "enter a number: 10\n",
      "enter another number: 55\n",
      "lcm of 10 and 55 is 110\n"
     ]
    }
   ],
   "source": [
    "a = int(input(\"enter a number: \"))\n",
    "b = int(input(\"enter another number: \"))\n",
    "def lcmvalue(a , b):\n",
    "     if a>b:\n",
    "       greater = a\n",
    "     else:\n",
    "        greater = b\n",
    "        value = greater\n",
    "     while True:\n",
    "         if (greater% a ==0 and greater%b ==0) :\n",
    "\n",
    "              print(\"lcm of\",a, \"and\" ,b,\"is\",greater)\n",
    "              break\n",
    "         else:\n",
    "             greater = greater + value\n",
    "lcmvalue(a , b)"
   ]
  },
  {
   "cell_type": "code",
   "execution_count": 11,
   "id": "5ac7ae61",
   "metadata": {},
   "outputs": [
    {
     "name": "stdout",
     "output_type": "stream",
     "text": [
      "unsorted list: [1, 3, 5, 4, 6, 2, 8, 9, 7, 10, 14, 13, 11, 15, 12]\n",
      "sorted list:  [15, 14, 13, 12, 11, 10, 9, 8, 7, 6, 5, 4, 3, 2, 1]\n"
     ]
    }
   ],
   "source": [
    "list =[1,3,5,4,6,2,8,9,7,10,14,13,11,15,12]\n",
    "print(\"unsorted list:\", list)\n",
    "for j in range(len(list)-1):\n",
    "    for i in range(len(list)-1):\n",
    "        if list[i] <list[i+1]:\n",
    "            list[i],list[i + 1] = list[i+1],list[i]\n",
    "print(\"sorted list: \",list)\n"
   ]
  },
  {
   "cell_type": "code",
   "execution_count": 12,
   "id": "54958f45",
   "metadata": {},
   "outputs": [
    {
     "name": "stdout",
     "output_type": "stream",
     "text": [
      "[ 0  2  4  5  8  9 10 11 15 17 18 25 43 55 60]\n"
     ]
    }
   ],
   "source": [
    "import numpy as np\n",
    "a = n.array([0,5,8,9,10,43,17,18,25,4,60,2,11,15,55])\n",
    "print(n.sort(a))"
   ]
  },
  {
   "cell_type": "code",
   "execution_count": 13,
   "id": "1be9aa88",
   "metadata": {},
   "outputs": [
    {
     "name": "stdout",
     "output_type": "stream",
     "text": [
      "Enter the no of rows 3\n",
      "Enter the no of columns 3\n",
      "[[4, 4, -1], [2, -1, 2], [4, 3, -2]]\n"
     ]
    }
   ],
   "source": [
    "import random\n",
    "m = int(input(\"Enter the no of rows \"))\n",
    "n = int(input(\"Enter the no of columns \"))\n",
    "mat = [[0]*n]*m\n",
    "for i in range(m):\n",
    "        mat[i] = []\n",
    "        for j in range(n):\n",
    "            mat[i].append(random.randrange(-2,5))\n",
    "\n",
    "print(mat)"
   ]
  },
  {
   "cell_type": "code",
   "execution_count": 17,
   "id": "1d99a538",
   "metadata": {},
   "outputs": [
    {
     "name": "stdout",
     "output_type": "stream",
     "text": [
      "[33, 13, 22, 5]\n",
      "[6, 32, 16, 14]\n",
      "[8, -31, 3, -6]\n"
     ]
    }
   ],
   "source": [
    "A = [[1, 5, 3],\n",
    "     [4, 0, 6],\n",
    "     [-4, 1, 2]]\n",
    "\n",
    "B = [[0, 8, 1, 2],\n",
    "     [6, 1, 3, 0],\n",
    "     [1, 0, 2, 1]]\n",
    "\n",
    "result = [[0, 0, 0, 0],\n",
    "          [0, 0, 0, 0],\n",
    "          [0, 0, 0, 0]]\n",
    "\n",
    "for i in range(len(A)):\n",
    "\n",
    "    for j in range(len(B[0])):\n",
    "\n",
    "        for k in range(len(B)):\n",
    "            result[i][j] += A[i][k] * B[k][j]\n",
    "\n",
    "for r in result:\n",
    "    print(r)"
   ]
  },
  {
   "cell_type": "code",
   "execution_count": null,
   "id": "d3184172",
   "metadata": {},
   "outputs": [],
   "source": []
  }
 ],
 "metadata": {
  "kernelspec": {
   "display_name": "Python 3",
   "language": "python",
   "name": "python3"
  },
  "language_info": {
   "codemirror_mode": {
    "name": "ipython",
    "version": 3
   },
   "file_extension": ".py",
   "mimetype": "text/x-python",
   "name": "python",
   "nbconvert_exporter": "python",
   "pygments_lexer": "ipython3",
   "version": "3.8.8"
  }
 },
 "nbformat": 4,
 "nbformat_minor": 5
}
